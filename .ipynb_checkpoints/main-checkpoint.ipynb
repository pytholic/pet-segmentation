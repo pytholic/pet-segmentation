{
 "cells": [
  {
   "cell_type": "markdown",
   "id": "39fbdf3b-c3ff-42a7-ac09-cabc72a5026e",
   "metadata": {},
   "source": [
    "# Overview"
   ]
  },
  {
   "cell_type": "markdown",
   "id": "38c1c04d-4f14-4ecf-b22a-92bb75d45964",
   "metadata": {},
   "source": [
    "In this project, we will perform image segmentation task using the [Oxford III-T Pet Dataset](https://www.robots.ox.ac.uk/~vgg/data/pets/). We will not worry about the specific pet categories for now. The goal is to create an algorithm that can segment and predict the `foreground` (pet) and `background`."
   ]
  },
  {
   "cell_type": "markdown",
   "id": "d4d554bf-7eff-425c-b678-2b8fe602bc5a",
   "metadata": {},
   "source": [
    "# Import modules"
   ]
  },
  {
   "cell_type": "code",
   "execution_count": 83,
   "id": "66ea1210",
   "metadata": {},
   "outputs": [
    {
     "data": {
      "text/plain": [
       "<torch._C.Generator at 0x2892dba70>"
      ]
     },
     "execution_count": 83,
     "metadata": {},
     "output_type": "execute_result"
    }
   ],
   "source": [
    "import os, glob\n",
    "import shutil\n",
    "import random\n",
    "import numpy as np\n",
    "import matplotlib.pyplot as plt\n",
    "import albumentations as A\n",
    "import pytorch_lightning as pl\n",
    "import torch\n",
    "import torch.nn.functional as F\n",
    "import torch.optim as optim\n",
    "\n",
    "from PIL import Image\n",
    "from clearml import Logger, Task\n",
    "from datetime import datetime\n",
    "from albumentations.pytorch import ToTensorV2\n",
    "from simple_parsing import ArgumentParser\n",
    "from torch.utils.data import Subset, Dataset, DataLoader\n",
    "\n",
    "random.seed(42)\n",
    "torch.manual_seed(42)"
   ]
  },
  {
   "cell_type": "markdown",
   "id": "1886e21f-5e8a-47e5-9c5a-7ce4aecb705b",
   "metadata": {},
   "source": [
    "# Utility functions"
   ]
  },
  {
   "cell_type": "code",
   "execution_count": 84,
   "id": "44eacb5f-13fc-478d-913c-d489a679f7a5",
   "metadata": {
    "tags": []
   },
   "outputs": [],
   "source": [
    "# Function to check corrupted images\n",
    "\n",
    "def test_files(image_names: list, images_root: str):\n",
    "    corrupted = []\n",
    "    for filepath in images_list:\n",
    "        full_path = os.path.join(images_root, filepath)\n",
    "        filename = full_path.split(\"/\")[-1]\n",
    "        if filename.endswith((\".jpg\", \".png\")): # requires tuple\n",
    "            try:\n",
    "                img = Image.open(filepath) # open the image file\n",
    "                img.verify() # verify that it is, in fact an image\n",
    "            except (IOError, SyntaxError) as e:\n",
    "                print(\"Bad file: \", filename) # print out the names of corrupt files\n",
    "                corrupted.append(filename)\n",
    "        else:\n",
    "            print(\"Not an image: \", filename) # find the files that are not images\n",
    "            corrupted.append(filename)\n",
    "        \n",
    "    return corrupted"
   ]
  },
  {
   "cell_type": "markdown",
   "id": "20575391-68b0-4c7d-917c-970f711dbe8f",
   "metadata": {
    "tags": []
   },
   "source": [
    "# Data Preprocessing"
   ]
  },
  {
   "cell_type": "markdown",
   "id": "4a621510-1587-4e09-b270-dd7ac911db7a",
   "metadata": {},
   "source": [
    "Downloaded the dataset and removed unnecessary files. Just keeping the `images` and the `masks`."
   ]
  },
  {
   "cell_type": "code",
   "execution_count": 85,
   "id": "492bd44e-5d22-4099-8fd3-feb2c0791203",
   "metadata": {
    "tags": []
   },
   "outputs": [],
   "source": [
    "# Define paths\n",
    "\n",
    "DATA_ROOT = \"./data\"\n",
    "images_dir = os.path.join(DATA_ROOT, \"images\")\n",
    "masks_dir = os.path.join(DATA_ROOT, \"masks\")"
   ]
  },
  {
   "cell_type": "markdown",
   "id": "3918bcf2-b268-4a87-9013-f2fc629517aa",
   "metadata": {},
   "source": [
    "## Check images and masks\n",
    "\n",
    "The total number of `images` and `masks` should be same."
   ]
  },
  {
   "cell_type": "code",
   "execution_count": 86,
   "id": "e02916e6-330d-46ed-baa9-ec2bfa7b6e29",
   "metadata": {
    "tags": []
   },
   "outputs": [
    {
     "name": "stdout",
     "output_type": "stream",
     "text": [
      "Total images: 7393\n",
      "Total masks: 7390\n"
     ]
    }
   ],
   "source": [
    "# Check total number of images and masks\n",
    "\n",
    "images_paths = sorted(os.listdir(images_dir))\n",
    "masks_paths = sorted(os.listdir(masks_dir))\n",
    "print(f\"Total images: {len(images_paths)}\")\n",
    "print(f\"Total masks: {len(masks_paths)}\")"
   ]
  },
  {
   "cell_type": "markdown",
   "id": "af1823a4-db3a-4b0c-93c9-adf2878c79e2",
   "metadata": {},
   "source": [
    "The total number of images and mask is not same. Either we have missing masks or we have some files whic hare not images."
   ]
  },
  {
   "cell_type": "code",
   "execution_count": 88,
   "id": "990b6f90-bb02-475e-ba60-5e72126e99cb",
   "metadata": {
    "tags": []
   },
   "outputs": [
    {
     "name": "stdout",
     "output_type": "stream",
     "text": [
      "Not an image:  Abyssinian_100.mat\n",
      "Not an image:  Abyssinian_101.mat\n",
      "Not an image:  Abyssinian_102.mat\n"
     ]
    }
   ],
   "source": [
    "# Check for corrupted images and masks\n",
    "corrutped_images = test_files(images_paths, images_dir)\n",
    "# corrutped_masks = test_files(masks_paths, masks_dir)"
   ]
  },
  {
   "cell_type": "code",
   "execution_count": null,
   "id": "15f4015b-ee31-41e0-b8dc-f3290efb250f",
   "metadata": {},
   "outputs": [],
   "source": []
  },
  {
   "cell_type": "code",
   "execution_count": null,
   "id": "b41fce33-516b-434a-b51c-4bd24f4bf62f",
   "metadata": {},
   "outputs": [],
   "source": []
  },
  {
   "cell_type": "code",
   "execution_count": null,
   "id": "f338b4d3-a36c-40ed-b6b8-e5a488ddca05",
   "metadata": {},
   "outputs": [],
   "source": []
  },
  {
   "cell_type": "code",
   "execution_count": null,
   "id": "c12f44c9-5c41-4b6d-9967-8a596df2758c",
   "metadata": {},
   "outputs": [],
   "source": []
  },
  {
   "cell_type": "code",
   "execution_count": null,
   "id": "6ae267bd-c137-4923-b707-c003096eaccd",
   "metadata": {},
   "outputs": [],
   "source": []
  },
  {
   "cell_type": "code",
   "execution_count": null,
   "id": "ccd1ad89-080c-427b-9323-78ac2f03ff97",
   "metadata": {},
   "outputs": [],
   "source": []
  },
  {
   "cell_type": "code",
   "execution_count": null,
   "id": "35c22e5c-f010-4489-b846-714bb27985a1",
   "metadata": {},
   "outputs": [],
   "source": []
  },
  {
   "cell_type": "markdown",
   "id": "63859d9f-07e8-438d-9afe-80ab52570aae",
   "metadata": {},
   "source": [
    "We can create a new list which contains only the valid paths that exist in both lists."
   ]
  },
  {
   "cell_type": "code",
   "execution_count": 75,
   "id": "60be0572-f937-4164-aafc-4b462936333c",
   "metadata": {
    "tags": []
   },
   "outputs": [],
   "source": [
    "valid_paths = [img_path for img_path in images_paths if os.path.exists(os.path.join(images_dir, img_path)) and img_path[:-3] + \"png\" in masks_paths]\n",
    "valid_mask_paths = [img_path[:-3] for img_path in valid_paths]"
   ]
  },
  {
   "cell_type": "code",
   "execution_count": 76,
   "id": "693074a0-fee9-4f55-af02-a03ebe72aacd",
   "metadata": {
    "tags": []
   },
   "outputs": [
    {
     "name": "stdout",
     "output_type": "stream",
     "text": [
      "Total valid images: 7393\n",
      "Total valid masks: 7393\n"
     ]
    }
   ],
   "source": [
    "print(f\"Total valid images: {len(valid_paths)}\")\n",
    "print(f\"Total valid masks: {len(valid_mask_paths)}\")"
   ]
  },
  {
   "cell_type": "code",
   "execution_count": null,
   "id": "2a40e7bc-1d69-48ea-8676-df918dd6c98a",
   "metadata": {},
   "outputs": [],
   "source": []
  },
  {
   "cell_type": "code",
   "execution_count": null,
   "id": "112f0783-0072-474f-b531-3643cfe139ba",
   "metadata": {},
   "outputs": [],
   "source": []
  },
  {
   "cell_type": "code",
   "execution_count": 40,
   "id": "e5ea2ff0-f4db-4376-a5a5-0093bb78cc23",
   "metadata": {
    "tags": []
   },
   "outputs": [],
   "source": [
    "# Check if there are any corrpted images or masks\n",
    "\n",
    "test_images(images_list)\n",
    "test_images(masks_list)"
   ]
  },
  {
   "cell_type": "code",
   "execution_count": null,
   "id": "d344117f-8b81-4a62-be99-94317aa60ed4",
   "metadata": {},
   "outputs": [],
   "source": []
  },
  {
   "cell_type": "code",
   "execution_count": null,
   "id": "f1cd2fef-5b51-448a-b0e7-b94a5054787a",
   "metadata": {},
   "outputs": [],
   "source": []
  },
  {
   "cell_type": "code",
   "execution_count": null,
   "id": "7595eeb9-7d04-46be-944b-a3f199942702",
   "metadata": {},
   "outputs": [],
   "source": []
  },
  {
   "cell_type": "code",
   "execution_count": null,
   "id": "0f9e6ea6-ca0f-4332-bf06-ee7a4cb375d7",
   "metadata": {},
   "outputs": [],
   "source": []
  }
 ],
 "metadata": {
  "kernelspec": {
   "display_name": "Python 3 (ipykernel)",
   "language": "python",
   "name": "python3"
  },
  "language_info": {
   "codemirror_mode": {
    "name": "ipython",
    "version": 3
   },
   "file_extension": ".py",
   "mimetype": "text/x-python",
   "name": "python",
   "nbconvert_exporter": "python",
   "pygments_lexer": "ipython3",
   "version": "3.11.2"
  }
 },
 "nbformat": 4,
 "nbformat_minor": 5
}
